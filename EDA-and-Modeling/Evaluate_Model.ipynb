{
 "cells": [
  {
   "cell_type": "markdown",
   "metadata": {},
   "source": [
    "# Evaluate Model Data\n",
    "#### The purpose of this notebook is to evaluate and combine the datasets that were generated during review of the Verif.AI model pipeline\n",
    "#### Author: Michael Denton\n",
    "#### Published Date: April 15, 2024"
   ]
  },
  {
   "cell_type": "code",
   "execution_count": 3,
   "metadata": {},
   "outputs": [],
   "source": [
    "import pandas as pd\n",
    "import matplotlib.pyplot as plt\n",
    "import seaborn as sns"
   ]
  },
  {
   "cell_type": "code",
   "execution_count": 4,
   "metadata": {},
   "outputs": [],
   "source": [
    "%matplotlib inline"
   ]
  },
  {
   "cell_type": "code",
   "execution_count": null,
   "metadata": {},
   "outputs": [],
   "source": []
  },
  {
   "cell_type": "markdown",
   "metadata": {},
   "source": [
    "#### Because of the Google API limits, we had to split up the datasets"
   ]
  },
  {
   "cell_type": "code",
   "execution_count": 5,
   "metadata": {},
   "outputs": [],
   "source": [
    "judged_pt1 = pd.read_excel('judged_subset_of_politifact_data.xlsx')\n",
    "judged_pt2 = pd.read_excel('judged_subset_of_politifact_data_part2.xlsx')\n",
    "judged_pt3 = pd.read_excel('judged_subset_of_politifact_data_part3.xlsx') \n",
    "judged_pt4 = pd.read_excel('judged_subset_of_politifact_data_part4.xlsx') \n",
    "\n",
    "# Politifact Data\n",
    "sampled_data = pd.read_excel('politifact_scraped_data.xlsx')\n",
    "\n",
    "# API v0 judgements\n",
    "judged_data_v0 = pd.concat([judged_pt1.dropna(subset='judgement'),judged_pt2.dropna(subset='judgement'), judged_pt3.dropna(subset='judgement'), judged_pt4.dropna(subset='judgement')])\n",
    "judged_data_v0.head()\n",
    "\n",
    "# API v5\n",
    "judged_data_v5 = pd.read_excel('judged_subset_of_politifact_data_apiv5.xlsx')\n",
    "\n",
    "# Baseline judgements\n",
    "judged_baseline_mistral= pd.read_excel('judged_subset_of_politifact_data_mistral7b_baseline.xlsx')\n",
    "judged_baseline_llama= pd.read_excel('judged_subset_of_politifact_data_llama2_baseline.xlsx')\n"
   ]
  },
  {
   "cell_type": "code",
   "execution_count": 6,
   "metadata": {},
   "outputs": [],
   "source": [
    "judged_data_v0 = judged_data_v0.drop_duplicates(subset='index').reset_index(drop=True)\n",
    "judged_baseline_mistral = judged_baseline_mistral.drop_duplicates(subset='index').reset_index(drop=True)\n",
    "judged_baseline_llama = judged_baseline_llama.drop_duplicates(subset='index').reset_index(drop=True)\n",
    "judged_data_v5  = judged_data_v5.dropna(subset='judgement').drop_duplicates(subset='index').reset_index(drop=True)"
   ]
  },
  {
   "cell_type": "code",
   "execution_count": 7,
   "metadata": {},
   "outputs": [
    {
     "data": {
      "text/html": [
       "<div>\n",
       "<style scoped>\n",
       "    .dataframe tbody tr th:only-of-type {\n",
       "        vertical-align: middle;\n",
       "    }\n",
       "\n",
       "    .dataframe tbody tr th {\n",
       "        vertical-align: top;\n",
       "    }\n",
       "\n",
       "    .dataframe thead th {\n",
       "        text-align: right;\n",
       "    }\n",
       "</style>\n",
       "<table border=\"1\" class=\"dataframe\">\n",
       "  <thead>\n",
       "    <tr style=\"text-align: right;\">\n",
       "      <th></th>\n",
       "      <th>index</th>\n",
       "      <th>claim</th>\n",
       "      <th>claim_source</th>\n",
       "      <th>review_date</th>\n",
       "      <th>review_author</th>\n",
       "      <th>veracity</th>\n",
       "      <th>review_tags</th>\n",
       "      <th>review_points</th>\n",
       "      <th>review_article</th>\n",
       "      <th>review_url</th>\n",
       "      <th>Unnamed: 0</th>\n",
       "      <th>judgement</th>\n",
       "      <th>API</th>\n",
       "    </tr>\n",
       "  </thead>\n",
       "  <tbody>\n",
       "    <tr>\n",
       "      <th>0</th>\n",
       "      <td>30</td>\n",
       "      <td>“Marijuana is currently classified in the same...</td>\n",
       "      <td>Kirsten Gillibrand</td>\n",
       "      <td>February 20, 2024</td>\n",
       "      <td>Conor Amendola</td>\n",
       "      <td>true</td>\n",
       "      <td>['Drugs', 'Public Health', 'New York', 'Kirste...</td>\n",
       "      <td>['Sen. Kirsten Gillibrand, D-N.Y., is correct ...</td>\n",
       "      <td>When Sen. Kirsten Gillibrand, D-N.Y., shared a...</td>\n",
       "      <td>https://www.politifact.com/factchecks/2024/feb...</td>\n",
       "      <td>27</td>\n",
       "      <td>[{'statement': 'Marijuana is currently classif...</td>\n",
       "      <td>0</td>\n",
       "    </tr>\n",
       "  </tbody>\n",
       "</table>\n",
       "</div>"
      ],
      "text/plain": [
       "   index                                              claim  \\\n",
       "0     30  “Marijuana is currently classified in the same...   \n",
       "\n",
       "         claim_source        review_date   review_author veracity  \\\n",
       "0  Kirsten Gillibrand  February 20, 2024  Conor Amendola     true   \n",
       "\n",
       "                                         review_tags  \\\n",
       "0  ['Drugs', 'Public Health', 'New York', 'Kirste...   \n",
       "\n",
       "                                       review_points  \\\n",
       "0  ['Sen. Kirsten Gillibrand, D-N.Y., is correct ...   \n",
       "\n",
       "                                      review_article  \\\n",
       "0  When Sen. Kirsten Gillibrand, D-N.Y., shared a...   \n",
       "\n",
       "                                          review_url  Unnamed: 0  \\\n",
       "0  https://www.politifact.com/factchecks/2024/feb...          27   \n",
       "\n",
       "                                           judgement  API  \n",
       "0  [{'statement': 'Marijuana is currently classif...    0  "
      ]
     },
     "execution_count": 7,
     "metadata": {},
     "output_type": "execute_result"
    }
   ],
   "source": [
    "sampled_data_v0 = sampled_data.merge(judged_data_v0, on='index', how='inner')\n",
    "sampled_data_v0.head(1)"
   ]
  },
  {
   "cell_type": "code",
   "execution_count": 8,
   "metadata": {},
   "outputs": [
    {
     "data": {
      "text/html": [
       "<div>\n",
       "<style scoped>\n",
       "    .dataframe tbody tr th:only-of-type {\n",
       "        vertical-align: middle;\n",
       "    }\n",
       "\n",
       "    .dataframe tbody tr th {\n",
       "        vertical-align: top;\n",
       "    }\n",
       "\n",
       "    .dataframe thead th {\n",
       "        text-align: right;\n",
       "    }\n",
       "</style>\n",
       "<table border=\"1\" class=\"dataframe\">\n",
       "  <thead>\n",
       "    <tr style=\"text-align: right;\">\n",
       "      <th></th>\n",
       "      <th>index</th>\n",
       "      <th>claim</th>\n",
       "      <th>claim_source</th>\n",
       "      <th>review_date</th>\n",
       "      <th>review_author</th>\n",
       "      <th>veracity</th>\n",
       "      <th>review_tags</th>\n",
       "      <th>review_points</th>\n",
       "      <th>review_article</th>\n",
       "      <th>review_url</th>\n",
       "      <th>Unnamed: 0</th>\n",
       "      <th>judgement</th>\n",
       "      <th>API</th>\n",
       "    </tr>\n",
       "  </thead>\n",
       "  <tbody>\n",
       "    <tr>\n",
       "      <th>0</th>\n",
       "      <td>30</td>\n",
       "      <td>“Marijuana is currently classified in the same...</td>\n",
       "      <td>Kirsten Gillibrand</td>\n",
       "      <td>February 20, 2024</td>\n",
       "      <td>Conor Amendola</td>\n",
       "      <td>true</td>\n",
       "      <td>['Drugs', 'Public Health', 'New York', 'Kirste...</td>\n",
       "      <td>['Sen. Kirsten Gillibrand, D-N.Y., is correct ...</td>\n",
       "      <td>When Sen. Kirsten Gillibrand, D-N.Y., shared a...</td>\n",
       "      <td>https://www.politifact.com/factchecks/2024/feb...</td>\n",
       "      <td>0</td>\n",
       "      <td>[{'statement': 'Marijuana is currently classif...</td>\n",
       "      <td>baseline-mistral7b</td>\n",
       "    </tr>\n",
       "  </tbody>\n",
       "</table>\n",
       "</div>"
      ],
      "text/plain": [
       "   index                                              claim  \\\n",
       "0     30  “Marijuana is currently classified in the same...   \n",
       "\n",
       "         claim_source        review_date   review_author veracity  \\\n",
       "0  Kirsten Gillibrand  February 20, 2024  Conor Amendola     true   \n",
       "\n",
       "                                         review_tags  \\\n",
       "0  ['Drugs', 'Public Health', 'New York', 'Kirste...   \n",
       "\n",
       "                                       review_points  \\\n",
       "0  ['Sen. Kirsten Gillibrand, D-N.Y., is correct ...   \n",
       "\n",
       "                                      review_article  \\\n",
       "0  When Sen. Kirsten Gillibrand, D-N.Y., shared a...   \n",
       "\n",
       "                                          review_url  Unnamed: 0  \\\n",
       "0  https://www.politifact.com/factchecks/2024/feb...           0   \n",
       "\n",
       "                                           judgement                 API  \n",
       "0  [{'statement': 'Marijuana is currently classif...  baseline-mistral7b  "
      ]
     },
     "execution_count": 8,
     "metadata": {},
     "output_type": "execute_result"
    }
   ],
   "source": [
    "sampled_data_baseline_mistral = sampled_data.merge(judged_baseline_mistral, on='index', how='inner')\n",
    "sampled_data_baseline_mistral.head(1)"
   ]
  },
  {
   "cell_type": "code",
   "execution_count": 9,
   "metadata": {},
   "outputs": [
    {
     "data": {
      "text/html": [
       "<div>\n",
       "<style scoped>\n",
       "    .dataframe tbody tr th:only-of-type {\n",
       "        vertical-align: middle;\n",
       "    }\n",
       "\n",
       "    .dataframe tbody tr th {\n",
       "        vertical-align: top;\n",
       "    }\n",
       "\n",
       "    .dataframe thead th {\n",
       "        text-align: right;\n",
       "    }\n",
       "</style>\n",
       "<table border=\"1\" class=\"dataframe\">\n",
       "  <thead>\n",
       "    <tr style=\"text-align: right;\">\n",
       "      <th></th>\n",
       "      <th>index</th>\n",
       "      <th>claim</th>\n",
       "      <th>claim_source</th>\n",
       "      <th>review_date</th>\n",
       "      <th>review_author</th>\n",
       "      <th>veracity</th>\n",
       "      <th>review_tags</th>\n",
       "      <th>review_points</th>\n",
       "      <th>review_article</th>\n",
       "      <th>review_url</th>\n",
       "      <th>Unnamed: 0</th>\n",
       "      <th>judgement</th>\n",
       "      <th>API</th>\n",
       "    </tr>\n",
       "  </thead>\n",
       "  <tbody>\n",
       "    <tr>\n",
       "      <th>0</th>\n",
       "      <td>30</td>\n",
       "      <td>“Marijuana is currently classified in the same...</td>\n",
       "      <td>Kirsten Gillibrand</td>\n",
       "      <td>February 20, 2024</td>\n",
       "      <td>Conor Amendola</td>\n",
       "      <td>true</td>\n",
       "      <td>['Drugs', 'Public Health', 'New York', 'Kirste...</td>\n",
       "      <td>['Sen. Kirsten Gillibrand, D-N.Y., is correct ...</td>\n",
       "      <td>When Sen. Kirsten Gillibrand, D-N.Y., shared a...</td>\n",
       "      <td>https://www.politifact.com/factchecks/2024/feb...</td>\n",
       "      <td>0</td>\n",
       "      <td>[{'statement': 'Marijuana is currently classif...</td>\n",
       "      <td>baseline-llama2</td>\n",
       "    </tr>\n",
       "  </tbody>\n",
       "</table>\n",
       "</div>"
      ],
      "text/plain": [
       "   index                                              claim  \\\n",
       "0     30  “Marijuana is currently classified in the same...   \n",
       "\n",
       "         claim_source        review_date   review_author veracity  \\\n",
       "0  Kirsten Gillibrand  February 20, 2024  Conor Amendola     true   \n",
       "\n",
       "                                         review_tags  \\\n",
       "0  ['Drugs', 'Public Health', 'New York', 'Kirste...   \n",
       "\n",
       "                                       review_points  \\\n",
       "0  ['Sen. Kirsten Gillibrand, D-N.Y., is correct ...   \n",
       "\n",
       "                                      review_article  \\\n",
       "0  When Sen. Kirsten Gillibrand, D-N.Y., shared a...   \n",
       "\n",
       "                                          review_url  Unnamed: 0  \\\n",
       "0  https://www.politifact.com/factchecks/2024/feb...           0   \n",
       "\n",
       "                                           judgement              API  \n",
       "0  [{'statement': 'Marijuana is currently classif...  baseline-llama2  "
      ]
     },
     "execution_count": 9,
     "metadata": {},
     "output_type": "execute_result"
    }
   ],
   "source": [
    "sampled_data_baseline_llama = sampled_data.merge(judged_baseline_llama, on='index', how='inner')\n",
    "sampled_data_baseline_llama.head(1)"
   ]
  },
  {
   "cell_type": "code",
   "execution_count": 10,
   "metadata": {},
   "outputs": [
    {
     "data": {
      "text/html": [
       "<div>\n",
       "<style scoped>\n",
       "    .dataframe tbody tr th:only-of-type {\n",
       "        vertical-align: middle;\n",
       "    }\n",
       "\n",
       "    .dataframe tbody tr th {\n",
       "        vertical-align: top;\n",
       "    }\n",
       "\n",
       "    .dataframe thead th {\n",
       "        text-align: right;\n",
       "    }\n",
       "</style>\n",
       "<table border=\"1\" class=\"dataframe\">\n",
       "  <thead>\n",
       "    <tr style=\"text-align: right;\">\n",
       "      <th></th>\n",
       "      <th>index</th>\n",
       "      <th>claim</th>\n",
       "      <th>claim_source</th>\n",
       "      <th>review_date</th>\n",
       "      <th>review_author</th>\n",
       "      <th>veracity</th>\n",
       "      <th>review_tags</th>\n",
       "      <th>review_points</th>\n",
       "      <th>review_article</th>\n",
       "      <th>review_url</th>\n",
       "      <th>Unnamed: 0</th>\n",
       "      <th>judgement</th>\n",
       "      <th>API</th>\n",
       "    </tr>\n",
       "  </thead>\n",
       "  <tbody>\n",
       "    <tr>\n",
       "      <th>0</th>\n",
       "      <td>30</td>\n",
       "      <td>“Marijuana is currently classified in the same...</td>\n",
       "      <td>Kirsten Gillibrand</td>\n",
       "      <td>February 20, 2024</td>\n",
       "      <td>Conor Amendola</td>\n",
       "      <td>true</td>\n",
       "      <td>['Drugs', 'Public Health', 'New York', 'Kirste...</td>\n",
       "      <td>['Sen. Kirsten Gillibrand, D-N.Y., is correct ...</td>\n",
       "      <td>When Sen. Kirsten Gillibrand, D-N.Y., shared a...</td>\n",
       "      <td>https://www.politifact.com/factchecks/2024/feb...</td>\n",
       "      <td>0</td>\n",
       "      <td>[{'statement': 'Marijuana is currently classif...</td>\n",
       "      <td>5</td>\n",
       "    </tr>\n",
       "  </tbody>\n",
       "</table>\n",
       "</div>"
      ],
      "text/plain": [
       "   index                                              claim  \\\n",
       "0     30  “Marijuana is currently classified in the same...   \n",
       "\n",
       "         claim_source        review_date   review_author veracity  \\\n",
       "0  Kirsten Gillibrand  February 20, 2024  Conor Amendola     true   \n",
       "\n",
       "                                         review_tags  \\\n",
       "0  ['Drugs', 'Public Health', 'New York', 'Kirste...   \n",
       "\n",
       "                                       review_points  \\\n",
       "0  ['Sen. Kirsten Gillibrand, D-N.Y., is correct ...   \n",
       "\n",
       "                                      review_article  \\\n",
       "0  When Sen. Kirsten Gillibrand, D-N.Y., shared a...   \n",
       "\n",
       "                                          review_url  Unnamed: 0  \\\n",
       "0  https://www.politifact.com/factchecks/2024/feb...           0   \n",
       "\n",
       "                                           judgement  API  \n",
       "0  [{'statement': 'Marijuana is currently classif...    5  "
      ]
     },
     "execution_count": 10,
     "metadata": {},
     "output_type": "execute_result"
    }
   ],
   "source": [
    "sampled_data_v5 = sampled_data.merge(judged_data_v5, on='index', how='inner')\n",
    "sampled_data_v5.head(1)"
   ]
  },
  {
   "cell_type": "code",
   "execution_count": 11,
   "metadata": {},
   "outputs": [
    {
     "data": {
      "text/plain": [
       "715"
      ]
     },
     "execution_count": 11,
     "metadata": {},
     "output_type": "execute_result"
    }
   ],
   "source": [
    "sampled_data = pd.concat([sampled_data_v0, sampled_data_baseline_mistral, sampled_data_baseline_llama, sampled_data_v5])\n",
    "len(sampled_data)"
   ]
  },
  {
   "cell_type": "code",
   "execution_count": 13,
   "metadata": {},
   "outputs": [],
   "source": [
    "def evaluate_answer(x, parm, kv):\n",
    "    try:\n",
    "        if kv == 'judgement':\n",
    "            return eval(str(x[parm]))[0][kv].lower().replace(' ','-')\n",
    "        else:\n",
    "            return eval(str(x[parm]))[0][kv]\n",
    "    except:\n",
    "        return None\n",
    "    \n",
    "sampled_data['judgement_answer'] = sampled_data.apply(lambda x: evaluate_answer(x, 'judgement', 'judgement'), axis=1)\n",
    "sampled_data['sources'] = sampled_data.apply(lambda x: evaluate_answer(x, 'judgement', 'information'), axis=1)\n",
    "sampled_data['process_time'] = sampled_data.apply(lambda x: evaluate_answer(x, 'judgement', 'process_time'), axis=1)\n"
   ]
  },
  {
   "cell_type": "code",
   "execution_count": 14,
   "metadata": {},
   "outputs": [
    {
     "data": {
      "text/plain": [
       "judgement_answer\n",
       "false                        343\n",
       "true                         309\n",
       "unverifiable                  11\n",
       "half-true                      7\n",
       "barely-true                    7\n",
       "unverified                     6\n",
       "unproven                       5\n",
       "unclear                        3\n",
       "undetermined                   3\n",
       "unknown                        2\n",
       "mostly-true                    2\n",
       "mixture-of-true-and-false      1\n",
       "misleading                     1\n",
       "debatable                      1\n",
       "uncertain                      1\n",
       "partially-true                 1\n",
       "unconfirmed                    1\n",
       "maybe                          1\n",
       "mostly-false                   1\n",
       "Name: count, dtype: int64"
      ]
     },
     "execution_count": 14,
     "metadata": {},
     "output_type": "execute_result"
    }
   ],
   "source": [
    "sampled_data['judgement_answer'].value_counts()"
   ]
  },
  {
   "cell_type": "code",
   "execution_count": 15,
   "metadata": {},
   "outputs": [
    {
     "data": {
      "text/plain": [
       "veracity\n",
       "barely-true    154\n",
       "false          139\n",
       "half-true      116\n",
       "pants-fire     108\n",
       "true           102\n",
       "mostly-true     96\n",
       "Name: count, dtype: int64"
      ]
     },
     "execution_count": 15,
     "metadata": {},
     "output_type": "execute_result"
    }
   ],
   "source": [
    "sampled_data['veracity'].value_counts()"
   ]
  },
  {
   "cell_type": "code",
   "execution_count": 16,
   "metadata": {},
   "outputs": [],
   "source": [
    "# sampled_data.to_excel('sampled_data_merged.xlsx')"
   ]
  },
  {
   "cell_type": "code",
   "execution_count": 17,
   "metadata": {},
   "outputs": [],
   "source": [
    "sampled_data['veracity'] = pd.Categorical(\n",
    "    sampled_data['veracity'], \n",
    "    ordered = True, \n",
    "    categories=['pants-fire','false','barely-true','half-true','mostly-true','true']\n",
    ")"
   ]
  },
  {
   "cell_type": "code",
   "execution_count": 18,
   "metadata": {},
   "outputs": [],
   "source": [
    "sampled_data['judgement_answer'] = pd.Categorical(\n",
    "    sampled_data['judgement_answer'], \n",
    "    ordered = True, \n",
    "    categories=['pants-fire','false','barely-true','half-true','mostly-true','true']\n",
    ")"
   ]
  },
  {
   "cell_type": "code",
   "execution_count": 19,
   "metadata": {},
   "outputs": [
    {
     "data": {
      "text/plain": [
       "API\n",
       "0                     206\n",
       "baseline-mistral7b    206\n",
       "baseline-llama2       206\n",
       "5                      97\n",
       "Name: count, dtype: int64"
      ]
     },
     "execution_count": 19,
     "metadata": {},
     "output_type": "execute_result"
    }
   ],
   "source": [
    "sampled_data['API'].value_counts()"
   ]
  },
  {
   "cell_type": "code",
   "execution_count": 20,
   "metadata": {},
   "outputs": [],
   "source": [
    "sampled_data['API']  = pd.Categorical(\n",
    "    sampled_data['API'].astype(str), \n",
    "    ordered = True, \n",
    "    categories=['baseline-llama2','baseline-mistral7b','0','5']\n",
    ")"
   ]
  },
  {
   "cell_type": "code",
   "execution_count": 23,
   "metadata": {},
   "outputs": [
    {
     "name": "stderr",
     "output_type": "stream",
     "text": [
      "/tmp/ipykernel_3135/1557022122.py:1: FutureWarning: The default of observed=False is deprecated and will be changed to True in a future version of pandas. Pass observed=False to retain current behavior or observed=True to adopt the future default and silence this warning.\n",
      "  sampled_data.groupby('API').process_time.mean()\n"
     ]
    },
    {
     "data": {
      "text/plain": [
       "API\n",
       "baseline-llama2        3.996851\n",
       "baseline-mistral7b     4.062270\n",
       "0                     11.171660\n",
       "5                      7.711998\n",
       "Name: process_time, dtype: float64"
      ]
     },
     "execution_count": 23,
     "metadata": {},
     "output_type": "execute_result"
    }
   ],
   "source": [
    "sampled_data.groupby('API').process_time.mean()"
   ]
  },
  {
   "cell_type": "code",
   "execution_count": 24,
   "metadata": {},
   "outputs": [
    {
     "name": "stderr",
     "output_type": "stream",
     "text": [
      "/tmp/ipykernel_3135/3721363888.py:1: FutureWarning: The default of observed=False is deprecated and will be changed to True in a future version of pandas. Pass observed=False to retain current behavior or observed=True to adopt the future default and silence this warning.\n",
      "  sampled_data.groupby('API').process_time.std()\n"
     ]
    },
    {
     "data": {
      "text/plain": [
       "API\n",
       "baseline-llama2        2.342245\n",
       "baseline-mistral7b     4.332229\n",
       "0                     26.453639\n",
       "5                     11.935449\n",
       "Name: process_time, dtype: float64"
      ]
     },
     "execution_count": 24,
     "metadata": {},
     "output_type": "execute_result"
    }
   ],
   "source": [
    "sampled_data.groupby('API').process_time.std()"
   ]
  },
  {
   "cell_type": "code",
   "execution_count": 21,
   "metadata": {},
   "outputs": [
    {
     "name": "stderr",
     "output_type": "stream",
     "text": [
      "/tmp/ipykernel_3135/4109183224.py:1: FutureWarning: The default value of observed=False is deprecated and will change to observed=True in a future version of pandas. Specify observed=False to silence this warning and retain the current behavior\n",
      "  results = pd.pivot_table(sampled_data, index=['API','veracity'], columns='judgement_answer', values='claim', aggfunc={'claim': 'count'})\n"
     ]
    },
    {
     "data": {
      "text/html": [
       "<div>\n",
       "<style scoped>\n",
       "    .dataframe tbody tr th:only-of-type {\n",
       "        vertical-align: middle;\n",
       "    }\n",
       "\n",
       "    .dataframe tbody tr th {\n",
       "        vertical-align: top;\n",
       "    }\n",
       "\n",
       "    .dataframe thead th {\n",
       "        text-align: right;\n",
       "    }\n",
       "</style>\n",
       "<table border=\"1\" class=\"dataframe\">\n",
       "  <thead>\n",
       "    <tr style=\"text-align: right;\">\n",
       "      <th></th>\n",
       "      <th>judgement_answer</th>\n",
       "      <th>pants-fire</th>\n",
       "      <th>false</th>\n",
       "      <th>barely-true</th>\n",
       "      <th>half-true</th>\n",
       "      <th>mostly-true</th>\n",
       "      <th>true</th>\n",
       "    </tr>\n",
       "    <tr>\n",
       "      <th>API</th>\n",
       "      <th>veracity</th>\n",
       "      <th></th>\n",
       "      <th></th>\n",
       "      <th></th>\n",
       "      <th></th>\n",
       "      <th></th>\n",
       "      <th></th>\n",
       "    </tr>\n",
       "  </thead>\n",
       "  <tbody>\n",
       "    <tr>\n",
       "      <th rowspan=\"6\" valign=\"top\">baseline-llama2</th>\n",
       "      <th>pants-fire</th>\n",
       "      <td>0</td>\n",
       "      <td>12</td>\n",
       "      <td>0</td>\n",
       "      <td>0</td>\n",
       "      <td>0</td>\n",
       "      <td>12</td>\n",
       "    </tr>\n",
       "    <tr>\n",
       "      <th>false</th>\n",
       "      <td>0</td>\n",
       "      <td>9</td>\n",
       "      <td>0</td>\n",
       "      <td>0</td>\n",
       "      <td>0</td>\n",
       "      <td>21</td>\n",
       "    </tr>\n",
       "    <tr>\n",
       "      <th>barely-true</th>\n",
       "      <td>0</td>\n",
       "      <td>8</td>\n",
       "      <td>0</td>\n",
       "      <td>0</td>\n",
       "      <td>0</td>\n",
       "      <td>30</td>\n",
       "    </tr>\n",
       "    <tr>\n",
       "      <th>half-true</th>\n",
       "      <td>0</td>\n",
       "      <td>5</td>\n",
       "      <td>0</td>\n",
       "      <td>0</td>\n",
       "      <td>0</td>\n",
       "      <td>23</td>\n",
       "    </tr>\n",
       "    <tr>\n",
       "      <th>mostly-true</th>\n",
       "      <td>0</td>\n",
       "      <td>3</td>\n",
       "      <td>0</td>\n",
       "      <td>0</td>\n",
       "      <td>0</td>\n",
       "      <td>23</td>\n",
       "    </tr>\n",
       "    <tr>\n",
       "      <th>true</th>\n",
       "      <td>0</td>\n",
       "      <td>1</td>\n",
       "      <td>0</td>\n",
       "      <td>0</td>\n",
       "      <td>0</td>\n",
       "      <td>24</td>\n",
       "    </tr>\n",
       "    <tr>\n",
       "      <th rowspan=\"6\" valign=\"top\">baseline-mistral7b</th>\n",
       "      <th>pants-fire</th>\n",
       "      <td>0</td>\n",
       "      <td>29</td>\n",
       "      <td>0</td>\n",
       "      <td>0</td>\n",
       "      <td>0</td>\n",
       "      <td>2</td>\n",
       "    </tr>\n",
       "    <tr>\n",
       "      <th>false</th>\n",
       "      <td>0</td>\n",
       "      <td>33</td>\n",
       "      <td>0</td>\n",
       "      <td>0</td>\n",
       "      <td>0</td>\n",
       "      <td>7</td>\n",
       "    </tr>\n",
       "    <tr>\n",
       "      <th>barely-true</th>\n",
       "      <td>0</td>\n",
       "      <td>30</td>\n",
       "      <td>0</td>\n",
       "      <td>0</td>\n",
       "      <td>0</td>\n",
       "      <td>14</td>\n",
       "    </tr>\n",
       "    <tr>\n",
       "      <th>half-true</th>\n",
       "      <td>0</td>\n",
       "      <td>18</td>\n",
       "      <td>0</td>\n",
       "      <td>0</td>\n",
       "      <td>0</td>\n",
       "      <td>12</td>\n",
       "    </tr>\n",
       "    <tr>\n",
       "      <th>mostly-true</th>\n",
       "      <td>0</td>\n",
       "      <td>13</td>\n",
       "      <td>0</td>\n",
       "      <td>0</td>\n",
       "      <td>0</td>\n",
       "      <td>16</td>\n",
       "    </tr>\n",
       "    <tr>\n",
       "      <th>true</th>\n",
       "      <td>0</td>\n",
       "      <td>15</td>\n",
       "      <td>0</td>\n",
       "      <td>0</td>\n",
       "      <td>0</td>\n",
       "      <td>15</td>\n",
       "    </tr>\n",
       "    <tr>\n",
       "      <th rowspan=\"6\" valign=\"top\">0</th>\n",
       "      <th>pants-fire</th>\n",
       "      <td>0</td>\n",
       "      <td>30</td>\n",
       "      <td>0</td>\n",
       "      <td>0</td>\n",
       "      <td>0</td>\n",
       "      <td>0</td>\n",
       "    </tr>\n",
       "    <tr>\n",
       "      <th>false</th>\n",
       "      <td>0</td>\n",
       "      <td>35</td>\n",
       "      <td>0</td>\n",
       "      <td>0</td>\n",
       "      <td>0</td>\n",
       "      <td>4</td>\n",
       "    </tr>\n",
       "    <tr>\n",
       "      <th>barely-true</th>\n",
       "      <td>0</td>\n",
       "      <td>25</td>\n",
       "      <td>7</td>\n",
       "      <td>0</td>\n",
       "      <td>0</td>\n",
       "      <td>10</td>\n",
       "    </tr>\n",
       "    <tr>\n",
       "      <th>half-true</th>\n",
       "      <td>0</td>\n",
       "      <td>7</td>\n",
       "      <td>0</td>\n",
       "      <td>6</td>\n",
       "      <td>0</td>\n",
       "      <td>17</td>\n",
       "    </tr>\n",
       "    <tr>\n",
       "      <th>mostly-true</th>\n",
       "      <td>0</td>\n",
       "      <td>8</td>\n",
       "      <td>0</td>\n",
       "      <td>0</td>\n",
       "      <td>1</td>\n",
       "      <td>19</td>\n",
       "    </tr>\n",
       "    <tr>\n",
       "      <th>true</th>\n",
       "      <td>0</td>\n",
       "      <td>2</td>\n",
       "      <td>0</td>\n",
       "      <td>0</td>\n",
       "      <td>0</td>\n",
       "      <td>28</td>\n",
       "    </tr>\n",
       "    <tr>\n",
       "      <th rowspan=\"6\" valign=\"top\">5</th>\n",
       "      <th>pants-fire</th>\n",
       "      <td>0</td>\n",
       "      <td>13</td>\n",
       "      <td>0</td>\n",
       "      <td>0</td>\n",
       "      <td>0</td>\n",
       "      <td>1</td>\n",
       "    </tr>\n",
       "    <tr>\n",
       "      <th>false</th>\n",
       "      <td>0</td>\n",
       "      <td>14</td>\n",
       "      <td>0</td>\n",
       "      <td>0</td>\n",
       "      <td>0</td>\n",
       "      <td>2</td>\n",
       "    </tr>\n",
       "    <tr>\n",
       "      <th>barely-true</th>\n",
       "      <td>0</td>\n",
       "      <td>15</td>\n",
       "      <td>0</td>\n",
       "      <td>0</td>\n",
       "      <td>0</td>\n",
       "      <td>6</td>\n",
       "    </tr>\n",
       "    <tr>\n",
       "      <th>half-true</th>\n",
       "      <td>0</td>\n",
       "      <td>10</td>\n",
       "      <td>0</td>\n",
       "      <td>1</td>\n",
       "      <td>0</td>\n",
       "      <td>12</td>\n",
       "    </tr>\n",
       "    <tr>\n",
       "      <th>mostly-true</th>\n",
       "      <td>0</td>\n",
       "      <td>5</td>\n",
       "      <td>0</td>\n",
       "      <td>0</td>\n",
       "      <td>1</td>\n",
       "      <td>3</td>\n",
       "    </tr>\n",
       "    <tr>\n",
       "      <th>true</th>\n",
       "      <td>0</td>\n",
       "      <td>3</td>\n",
       "      <td>0</td>\n",
       "      <td>0</td>\n",
       "      <td>0</td>\n",
       "      <td>8</td>\n",
       "    </tr>\n",
       "  </tbody>\n",
       "</table>\n",
       "</div>"
      ],
      "text/plain": [
       "judgement_answer                pants-fire  false  barely-true  half-true  \\\n",
       "API                veracity                                                 \n",
       "baseline-llama2    pants-fire            0     12            0          0   \n",
       "                   false                 0      9            0          0   \n",
       "                   barely-true           0      8            0          0   \n",
       "                   half-true             0      5            0          0   \n",
       "                   mostly-true           0      3            0          0   \n",
       "                   true                  0      1            0          0   \n",
       "baseline-mistral7b pants-fire            0     29            0          0   \n",
       "                   false                 0     33            0          0   \n",
       "                   barely-true           0     30            0          0   \n",
       "                   half-true             0     18            0          0   \n",
       "                   mostly-true           0     13            0          0   \n",
       "                   true                  0     15            0          0   \n",
       "0                  pants-fire            0     30            0          0   \n",
       "                   false                 0     35            0          0   \n",
       "                   barely-true           0     25            7          0   \n",
       "                   half-true             0      7            0          6   \n",
       "                   mostly-true           0      8            0          0   \n",
       "                   true                  0      2            0          0   \n",
       "5                  pants-fire            0     13            0          0   \n",
       "                   false                 0     14            0          0   \n",
       "                   barely-true           0     15            0          0   \n",
       "                   half-true             0     10            0          1   \n",
       "                   mostly-true           0      5            0          0   \n",
       "                   true                  0      3            0          0   \n",
       "\n",
       "judgement_answer                mostly-true  true  \n",
       "API                veracity                        \n",
       "baseline-llama2    pants-fire             0    12  \n",
       "                   false                  0    21  \n",
       "                   barely-true            0    30  \n",
       "                   half-true              0    23  \n",
       "                   mostly-true            0    23  \n",
       "                   true                   0    24  \n",
       "baseline-mistral7b pants-fire             0     2  \n",
       "                   false                  0     7  \n",
       "                   barely-true            0    14  \n",
       "                   half-true              0    12  \n",
       "                   mostly-true            0    16  \n",
       "                   true                   0    15  \n",
       "0                  pants-fire             0     0  \n",
       "                   false                  0     4  \n",
       "                   barely-true            0    10  \n",
       "                   half-true              0    17  \n",
       "                   mostly-true            1    19  \n",
       "                   true                   0    28  \n",
       "5                  pants-fire             0     1  \n",
       "                   false                  0     2  \n",
       "                   barely-true            0     6  \n",
       "                   half-true              0    12  \n",
       "                   mostly-true            1     3  \n",
       "                   true                   0     8  "
      ]
     },
     "execution_count": 21,
     "metadata": {},
     "output_type": "execute_result"
    }
   ],
   "source": [
    "results = pd.pivot_table(sampled_data, index=['API','veracity'], columns='judgement_answer', values='claim', aggfunc={'claim': 'count'})\n",
    "results"
   ]
  },
  {
   "cell_type": "code",
   "execution_count": 22,
   "metadata": {},
   "outputs": [
    {
     "data": {
      "text/plain": [
       "<Axes: xlabel='judgement_answer', ylabel='API-veracity'>"
      ]
     },
     "execution_count": 22,
     "metadata": {},
     "output_type": "execute_result"
    },
    {
     "data": {
      "image/png": "[encoded data removed]",
      "text/plain": [
       "<Figure size 640x480 with 2 Axes>"
      ]
     },
     "metadata": {},
     "output_type": "display_data"
    }
   ],
   "source": [
    "sns.heatmap(results, annot=True, fmt='.0f')"
   ]
  },
  {
   "cell_type": "code",
   "execution_count": null,
   "metadata": {},
   "outputs": [],
   "source": []
  }
 ],
 "metadata": {
  "kernelspec": {
   "display_name": "verifai",
   "language": "python",
   "name": "python3"
  },
  "language_info": {
   "codemirror_mode": {
    "name": "ipython",
    "version": 3
   },
   "file_extension": ".py",
   "mimetype": "text/x-python",
   "name": "python",
   "nbconvert_exporter": "python",
   "pygments_lexer": "ipython3",
   "version": "3.12.1"
  }
 },
 "nbformat": 4,
 "nbformat_minor": 2
}
